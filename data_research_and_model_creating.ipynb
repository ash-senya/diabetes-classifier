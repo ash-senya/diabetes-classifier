{
 "cells": [
  {
   "cell_type": "markdown",
   "metadata": {},
   "source": [
    "## Diabetes research"
   ]
  },
  {
   "cell_type": "markdown",
   "metadata": {},
   "source": [
    "### imports modules and data"
   ]
  },
  {
   "cell_type": "code",
   "execution_count": 575,
   "metadata": {},
   "outputs": [],
   "source": [
    "import numpy as np \n",
    "import pandas as pd \n",
    "import matplotlib.pyplot as plt\n",
    "import seaborn as sns\n",
    "import ipywidgets as widgets\n",
    "from ipywidgets import HBox, Label\n",
    "\n",
    "import torch\n",
    "from torch.utils.data import Dataset, DataLoader\n",
    "import torch.nn as nn\n",
    "import torch.nn.functional as F\n",
    "import torch.nn.init as init\n",
    "import torch.optim as optim\n",
    "\n",
    "from sklearn.model_selection import train_test_split\n",
    "from sklearn import tree\n",
    "from sklearn.metrics import accuracy_score\n",
    "from sklearn.preprocessing import MinMaxScaler\n",
    "import joblib"
   ]
  },
  {
   "cell_type": "code",
   "execution_count": 423,
   "metadata": {},
   "outputs": [],
   "source": [
    "diabetes_df = pd.read_csv('diabetes.csv')"
   ]
  },
  {
   "cell_type": "code",
   "execution_count": 424,
   "metadata": {},
   "outputs": [
    {
     "data": {
      "text/html": [
       "<div>\n",
       "<style scoped>\n",
       "    .dataframe tbody tr th:only-of-type {\n",
       "        vertical-align: middle;\n",
       "    }\n",
       "\n",
       "    .dataframe tbody tr th {\n",
       "        vertical-align: top;\n",
       "    }\n",
       "\n",
       "    .dataframe thead th {\n",
       "        text-align: right;\n",
       "    }\n",
       "</style>\n",
       "<table border=\"1\" class=\"dataframe\">\n",
       "  <thead>\n",
       "    <tr style=\"text-align: right;\">\n",
       "      <th></th>\n",
       "      <th>Pregnancies</th>\n",
       "      <th>Glucose</th>\n",
       "      <th>BloodPressure</th>\n",
       "      <th>SkinThickness</th>\n",
       "      <th>Insulin</th>\n",
       "      <th>BMI</th>\n",
       "      <th>DiabetesPedigreeFunction</th>\n",
       "      <th>Age</th>\n",
       "      <th>Outcome</th>\n",
       "    </tr>\n",
       "  </thead>\n",
       "  <tbody>\n",
       "    <tr>\n",
       "      <th>0</th>\n",
       "      <td>6</td>\n",
       "      <td>148</td>\n",
       "      <td>72</td>\n",
       "      <td>35</td>\n",
       "      <td>0</td>\n",
       "      <td>33.6</td>\n",
       "      <td>0.627</td>\n",
       "      <td>50</td>\n",
       "      <td>1</td>\n",
       "    </tr>\n",
       "    <tr>\n",
       "      <th>1</th>\n",
       "      <td>1</td>\n",
       "      <td>85</td>\n",
       "      <td>66</td>\n",
       "      <td>29</td>\n",
       "      <td>0</td>\n",
       "      <td>26.6</td>\n",
       "      <td>0.351</td>\n",
       "      <td>31</td>\n",
       "      <td>0</td>\n",
       "    </tr>\n",
       "    <tr>\n",
       "      <th>2</th>\n",
       "      <td>8</td>\n",
       "      <td>183</td>\n",
       "      <td>64</td>\n",
       "      <td>0</td>\n",
       "      <td>0</td>\n",
       "      <td>23.3</td>\n",
       "      <td>0.672</td>\n",
       "      <td>32</td>\n",
       "      <td>1</td>\n",
       "    </tr>\n",
       "    <tr>\n",
       "      <th>3</th>\n",
       "      <td>1</td>\n",
       "      <td>89</td>\n",
       "      <td>66</td>\n",
       "      <td>23</td>\n",
       "      <td>94</td>\n",
       "      <td>28.1</td>\n",
       "      <td>0.167</td>\n",
       "      <td>21</td>\n",
       "      <td>0</td>\n",
       "    </tr>\n",
       "    <tr>\n",
       "      <th>4</th>\n",
       "      <td>0</td>\n",
       "      <td>137</td>\n",
       "      <td>40</td>\n",
       "      <td>35</td>\n",
       "      <td>168</td>\n",
       "      <td>43.1</td>\n",
       "      <td>2.288</td>\n",
       "      <td>33</td>\n",
       "      <td>1</td>\n",
       "    </tr>\n",
       "  </tbody>\n",
       "</table>\n",
       "</div>"
      ],
      "text/plain": [
       "   Pregnancies  Glucose  BloodPressure  SkinThickness  Insulin   BMI  \\\n",
       "0            6      148             72             35        0  33.6   \n",
       "1            1       85             66             29        0  26.6   \n",
       "2            8      183             64              0        0  23.3   \n",
       "3            1       89             66             23       94  28.1   \n",
       "4            0      137             40             35      168  43.1   \n",
       "\n",
       "   DiabetesPedigreeFunction  Age  Outcome  \n",
       "0                     0.627   50        1  \n",
       "1                     0.351   31        0  \n",
       "2                     0.672   32        1  \n",
       "3                     0.167   21        0  \n",
       "4                     2.288   33        1  "
      ]
     },
     "execution_count": 424,
     "metadata": {},
     "output_type": "execute_result"
    }
   ],
   "source": [
    "diabetes_df.head(5)"
   ]
  },
  {
   "cell_type": "markdown",
   "metadata": {},
   "source": [
    "### preliminary analysis"
   ]
  },
  {
   "cell_type": "code",
   "execution_count": 425,
   "metadata": {},
   "outputs": [
    {
     "data": {
      "text/html": [
       "<div>\n",
       "<style scoped>\n",
       "    .dataframe tbody tr th:only-of-type {\n",
       "        vertical-align: middle;\n",
       "    }\n",
       "\n",
       "    .dataframe tbody tr th {\n",
       "        vertical-align: top;\n",
       "    }\n",
       "\n",
       "    .dataframe thead th {\n",
       "        text-align: right;\n",
       "    }\n",
       "</style>\n",
       "<table border=\"1\" class=\"dataframe\">\n",
       "  <thead>\n",
       "    <tr style=\"text-align: right;\">\n",
       "      <th></th>\n",
       "      <th>Pregnancies</th>\n",
       "      <th>Glucose</th>\n",
       "      <th>BloodPressure</th>\n",
       "      <th>SkinThickness</th>\n",
       "      <th>Insulin</th>\n",
       "      <th>BMI</th>\n",
       "      <th>DiabetesPedigreeFunction</th>\n",
       "      <th>Age</th>\n",
       "      <th>Outcome</th>\n",
       "    </tr>\n",
       "  </thead>\n",
       "  <tbody>\n",
       "    <tr>\n",
       "      <th>count</th>\n",
       "      <td>768.000000</td>\n",
       "      <td>768.000000</td>\n",
       "      <td>768.000000</td>\n",
       "      <td>768.000000</td>\n",
       "      <td>768.000000</td>\n",
       "      <td>768.000000</td>\n",
       "      <td>768.000000</td>\n",
       "      <td>768.000000</td>\n",
       "      <td>768.000000</td>\n",
       "    </tr>\n",
       "    <tr>\n",
       "      <th>mean</th>\n",
       "      <td>3.845052</td>\n",
       "      <td>120.894531</td>\n",
       "      <td>69.105469</td>\n",
       "      <td>20.536458</td>\n",
       "      <td>79.799479</td>\n",
       "      <td>31.992578</td>\n",
       "      <td>0.471876</td>\n",
       "      <td>33.240885</td>\n",
       "      <td>0.348958</td>\n",
       "    </tr>\n",
       "    <tr>\n",
       "      <th>std</th>\n",
       "      <td>3.369578</td>\n",
       "      <td>31.972618</td>\n",
       "      <td>19.355807</td>\n",
       "      <td>15.952218</td>\n",
       "      <td>115.244002</td>\n",
       "      <td>7.884160</td>\n",
       "      <td>0.331329</td>\n",
       "      <td>11.760232</td>\n",
       "      <td>0.476951</td>\n",
       "    </tr>\n",
       "    <tr>\n",
       "      <th>min</th>\n",
       "      <td>0.000000</td>\n",
       "      <td>0.000000</td>\n",
       "      <td>0.000000</td>\n",
       "      <td>0.000000</td>\n",
       "      <td>0.000000</td>\n",
       "      <td>0.000000</td>\n",
       "      <td>0.078000</td>\n",
       "      <td>21.000000</td>\n",
       "      <td>0.000000</td>\n",
       "    </tr>\n",
       "    <tr>\n",
       "      <th>25%</th>\n",
       "      <td>1.000000</td>\n",
       "      <td>99.000000</td>\n",
       "      <td>62.000000</td>\n",
       "      <td>0.000000</td>\n",
       "      <td>0.000000</td>\n",
       "      <td>27.300000</td>\n",
       "      <td>0.243750</td>\n",
       "      <td>24.000000</td>\n",
       "      <td>0.000000</td>\n",
       "    </tr>\n",
       "    <tr>\n",
       "      <th>50%</th>\n",
       "      <td>3.000000</td>\n",
       "      <td>117.000000</td>\n",
       "      <td>72.000000</td>\n",
       "      <td>23.000000</td>\n",
       "      <td>30.500000</td>\n",
       "      <td>32.000000</td>\n",
       "      <td>0.372500</td>\n",
       "      <td>29.000000</td>\n",
       "      <td>0.000000</td>\n",
       "    </tr>\n",
       "    <tr>\n",
       "      <th>75%</th>\n",
       "      <td>6.000000</td>\n",
       "      <td>140.250000</td>\n",
       "      <td>80.000000</td>\n",
       "      <td>32.000000</td>\n",
       "      <td>127.250000</td>\n",
       "      <td>36.600000</td>\n",
       "      <td>0.626250</td>\n",
       "      <td>41.000000</td>\n",
       "      <td>1.000000</td>\n",
       "    </tr>\n",
       "    <tr>\n",
       "      <th>max</th>\n",
       "      <td>17.000000</td>\n",
       "      <td>199.000000</td>\n",
       "      <td>122.000000</td>\n",
       "      <td>99.000000</td>\n",
       "      <td>846.000000</td>\n",
       "      <td>67.100000</td>\n",
       "      <td>2.420000</td>\n",
       "      <td>81.000000</td>\n",
       "      <td>1.000000</td>\n",
       "    </tr>\n",
       "  </tbody>\n",
       "</table>\n",
       "</div>"
      ],
      "text/plain": [
       "       Pregnancies     Glucose  BloodPressure  SkinThickness     Insulin  \\\n",
       "count   768.000000  768.000000     768.000000     768.000000  768.000000   \n",
       "mean      3.845052  120.894531      69.105469      20.536458   79.799479   \n",
       "std       3.369578   31.972618      19.355807      15.952218  115.244002   \n",
       "min       0.000000    0.000000       0.000000       0.000000    0.000000   \n",
       "25%       1.000000   99.000000      62.000000       0.000000    0.000000   \n",
       "50%       3.000000  117.000000      72.000000      23.000000   30.500000   \n",
       "75%       6.000000  140.250000      80.000000      32.000000  127.250000   \n",
       "max      17.000000  199.000000     122.000000      99.000000  846.000000   \n",
       "\n",
       "              BMI  DiabetesPedigreeFunction         Age     Outcome  \n",
       "count  768.000000                768.000000  768.000000  768.000000  \n",
       "mean    31.992578                  0.471876   33.240885    0.348958  \n",
       "std      7.884160                  0.331329   11.760232    0.476951  \n",
       "min      0.000000                  0.078000   21.000000    0.000000  \n",
       "25%     27.300000                  0.243750   24.000000    0.000000  \n",
       "50%     32.000000                  0.372500   29.000000    0.000000  \n",
       "75%     36.600000                  0.626250   41.000000    1.000000  \n",
       "max     67.100000                  2.420000   81.000000    1.000000  "
      ]
     },
     "execution_count": 425,
     "metadata": {},
     "output_type": "execute_result"
    }
   ],
   "source": [
    "diabetes_df.describe(include=\"all\")"
   ]
  },
  {
   "cell_type": "code",
   "execution_count": 426,
   "metadata": {},
   "outputs": [
    {
     "name": "stdout",
     "output_type": "stream",
     "text": [
      "<class 'pandas.core.frame.DataFrame'>\n",
      "RangeIndex: 768 entries, 0 to 767\n",
      "Data columns (total 9 columns):\n",
      " #   Column                    Non-Null Count  Dtype  \n",
      "---  ------                    --------------  -----  \n",
      " 0   Pregnancies               768 non-null    int64  \n",
      " 1   Glucose                   768 non-null    int64  \n",
      " 2   BloodPressure             768 non-null    int64  \n",
      " 3   SkinThickness             768 non-null    int64  \n",
      " 4   Insulin                   768 non-null    int64  \n",
      " 5   BMI                       768 non-null    float64\n",
      " 6   DiabetesPedigreeFunction  768 non-null    float64\n",
      " 7   Age                       768 non-null    int64  \n",
      " 8   Outcome                   768 non-null    int64  \n",
      "dtypes: float64(2), int64(7)\n",
      "memory usage: 54.1 KB\n"
     ]
    }
   ],
   "source": [
    "diabetes_df.info()"
   ]
  },
  {
   "cell_type": "code",
   "execution_count": 427,
   "metadata": {},
   "outputs": [],
   "source": [
    "numerical_features = ['Pregnancies', 'Glucose', 'BloodPressure', 'SkinThickness','Insulin', 'BMI', 'DiabetesPedigreeFunction', 'Age','Outcome']\n"
   ]
  },
  {
   "cell_type": "code",
   "execution_count": 428,
   "metadata": {},
   "outputs": [],
   "source": [
    "plots_palette = sns.color_palette(\"ch:start=.2,rot=-.3\", as_cmap=True)\n",
    "plots_color = '#6380a8'"
   ]
  },
  {
   "cell_type": "code",
   "execution_count": 429,
   "metadata": {},
   "outputs": [
    {
     "data": {
      "image/png": "[encoded data removed]",
      "text/plain": [
       "<Figure size 1800x1600 with 2 Axes>"
      ]
     },
     "metadata": {},
     "output_type": "display_data"
    }
   ],
   "source": [
    "figure, ax = plt.subplots(figsize = (18,16))\n",
    "axis = sns.heatmap(diabetes_df.corr(), annot= True, ax=ax, linewidths=0.6, cmap=plots_palette)\n",
    "plt.show()"
   ]
  },
  {
   "cell_type": "code",
   "execution_count": 430,
   "metadata": {},
   "outputs": [
    {
     "data": {
      "image/png": "[encoded data removed]",
      "text/plain": [
       "<Figure size 1500x1200 with 9 Axes>"
      ]
     },
     "metadata": {},
     "output_type": "display_data"
    }
   ],
   "source": [
    "fig, axes = plt.subplots(3, 3, figsize=(15, 12), sharey=True)\n",
    "fig.suptitle('decision')\n",
    "\n",
    "i = 0\n",
    "for j in range(3):\n",
    "    for k in range(3):\n",
    "        sns.histplot(ax = axes[j,k], data = diabetes_df, x = numerical_features[i], color=plots_color, bins=60)\n",
    "        i = i + 1\n"
   ]
  },
  {
   "cell_type": "markdown",
   "metadata": {},
   "source": [
    "### create models"
   ]
  },
  {
   "cell_type": "code",
   "execution_count": 431,
   "metadata": {},
   "outputs": [],
   "source": [
    "def split_dataframe(dataframe, test_size=0.25,val_size=0.5, random_state=1 ):\n",
    "\n",
    "    '''\n",
    "    =============================\n",
    "    This function divides the dataframe into three parts (train, val, test).\n",
    "    To correctly calculate the validation part, we subtract the desired percentage \n",
    "    from the total percentage (specifics of the sklearn library).\n",
    "    =============================\n",
    "    '''\n",
    "\n",
    "    X = dataframe.iloc[:, :-1]\n",
    "    y = dataframe.iloc[:, -1]\n",
    "    \n",
    "    X_train, X_temp, y_train, y_temp = train_test_split(X, y, test_size=test_size, random_state=random_state, shuffle=True)\n",
    "\n",
    "    X_val, X_test, y_val, y_test = train_test_split(X_temp, y_temp, test_size=abs(val_size - 1), random_state=random_state, shuffle=True)\n",
    "\n",
    "    print(f'train set size: {X_train.shape[0]}')\n",
    "    print(f'test set size: {X_test.shape[0]}')\n",
    "    print(f'validation set size: {X_val.shape[0]}')\n",
    "    \n",
    "    return X_train, X_test, y_train, y_test, X_val, y_val"
   ]
  },
  {
   "cell_type": "code",
   "execution_count": 432,
   "metadata": {},
   "outputs": [],
   "source": [
    "handle_style_dict=dict(description_width='16',handle_color='#3e3565')\n",
    "\n",
    "test_size_widget = widgets.IntSlider(value=30, min=10, max=50,step=1, \n",
    "                                     orientation='horizontal',\n",
    "                                     style=handle_style_dict)\n",
    "test_size_widget_box = HBox([Label('Test size(% of all data)'), test_size_widget])\n",
    "\n",
    "validation_size_widget = widgets.IntSlider(value=60, min=10, max=80,step=1,\n",
    "                                           orientation='horizontal',\n",
    "                                           style=handle_style_dict)\n",
    "validation_size_widget_box = HBox([Label('Validation size(% of test %)'), validation_size_widget])"
   ]
  },
  {
   "cell_type": "code",
   "execution_count": 437,
   "metadata": {},
   "outputs": [
    {
     "data": {
      "application/vnd.jupyter.widget-view+json": {
       "model_id": "3a037ab204ce4221ac8c6b792556d356",
       "version_major": 2,
       "version_minor": 0
      },
      "text/plain": [
       "HBox(children=(Label(value='Test size(% of all data)'), IntSlider(value=30, max=50, min=10, style=SliderStyle(…"
      ]
     },
     "metadata": {},
     "output_type": "display_data"
    },
    {
     "data": {
      "application/vnd.jupyter.widget-view+json": {
       "model_id": "49d09204228243928b131eaf424bf00b",
       "version_major": 2,
       "version_minor": 0
      },
      "text/plain": [
       "HBox(children=(Label(value='Validation size(% of test %)'), IntSlider(value=60, max=80, min=10, style=SliderSt…"
      ]
     },
     "metadata": {},
     "output_type": "display_data"
    }
   ],
   "source": [
    "display(test_size_widget_box, validation_size_widget_box)"
   ]
  },
  {
   "cell_type": "code",
   "execution_count": 439,
   "metadata": {},
   "outputs": [
    {
     "name": "stdout",
     "output_type": "stream",
     "text": [
      "train set size: 537\n",
      "test set size: 132\n",
      "validation set size: 99\n"
     ]
    }
   ],
   "source": [
    "X_train, X_test, y_train, y_test, X_val, y_val = split_dataframe(dataframe=diabetes_df,\n",
    "                                                                 test_size=test_size_widget.value/100,\n",
    "                                                                 val_size=validation_size_widget.value/100)"
   ]
  },
  {
   "cell_type": "markdown",
   "metadata": {},
   "source": [
    "#### NN model"
   ]
  },
  {
   "cell_type": "code",
   "execution_count": 440,
   "metadata": {},
   "outputs": [],
   "source": [
    "scaler = MinMaxScaler()\n",
    "\n",
    "X_train_normal = pd.DataFrame(scaler.fit_transform(X_train), columns=X_train.columns)"
   ]
  },
  {
   "cell_type": "code",
   "execution_count": 441,
   "metadata": {},
   "outputs": [],
   "source": [
    "bounded_text_style = dict(description_width='20')\n",
    "\n",
    "int_layer_size_widget = widgets.BoundedIntText(value=32, min=8,max=32,step=2, style=bounded_text_style)\n",
    "int_layer_size_widget_box = HBox([Label('Int layer size: '), int_layer_size_widget])\n",
    "\n",
    "hide_layer_size_widget = widgets.BoundedIntText(value=256, min=16,max=1024,step=2, style=bounded_text_style)\n",
    "hide_layer_size_widget_box = HBox([Label('Hiden layer size: '), hide_layer_size_widget])\n",
    "\n",
    "dropout_widget = widgets.BoundedFloatText(value=0.5, min=0.1,max=0.99,step=0.1, style=bounded_text_style)\n",
    "dropout_widget_box = HBox([Label('Dropout value: '), dropout_widget])\n",
    "\n",
    "threshold_widget = widgets.BoundedFloatText(value=0.5, min=0.1,max=0.99,step=0.1, style=bounded_text_style)\n",
    "threshold_widget_box = HBox([Label('Threshold value: '), threshold_widget])"
   ]
  },
  {
   "cell_type": "code",
   "execution_count": 442,
   "metadata": {},
   "outputs": [
    {
     "data": {
      "application/vnd.jupyter.widget-view+json": {
       "model_id": "66c3a81a583045ad86d0e77c58b7bc73",
       "version_major": 2,
       "version_minor": 0
      },
      "text/plain": [
       "HBox(children=(Label(value='Int layer size: '), BoundedIntText(value=32, max=32, min=8, step=2, style=Descript…"
      ]
     },
     "metadata": {},
     "output_type": "display_data"
    },
    {
     "data": {
      "application/vnd.jupyter.widget-view+json": {
       "model_id": "1fb38fbe904840599e438f1b4312c575",
       "version_major": 2,
       "version_minor": 0
      },
      "text/plain": [
       "HBox(children=(Label(value='Hiden layer size: '), BoundedIntText(value=256, max=1024, min=16, step=2, style=De…"
      ]
     },
     "metadata": {},
     "output_type": "display_data"
    },
    {
     "data": {
      "application/vnd.jupyter.widget-view+json": {
       "model_id": "c4e4eb892a274e2180264cdcd8b228aa",
       "version_major": 2,
       "version_minor": 0
      },
      "text/plain": [
       "HBox(children=(Label(value='Dropout value: '), BoundedFloatText(value=0.5, max=0.99, min=0.1, step=0.1, style=…"
      ]
     },
     "metadata": {},
     "output_type": "display_data"
    },
    {
     "data": {
      "application/vnd.jupyter.widget-view+json": {
       "model_id": "587d697489dd41a8a676a4df43a2fe5b",
       "version_major": 2,
       "version_minor": 0
      },
      "text/plain": [
       "HBox(children=(Label(value='Threshold value: '), BoundedFloatText(value=0.5, max=0.99, min=0.1, step=0.1, styl…"
      ]
     },
     "metadata": {},
     "output_type": "display_data"
    }
   ],
   "source": [
    "display(int_layer_size_widget_box, \n",
    "        hide_layer_size_widget_box,\n",
    "        dropout_widget_box,\n",
    "        threshold_widget_box)"
   ]
  },
  {
   "cell_type": "code",
   "execution_count": 443,
   "metadata": {},
   "outputs": [],
   "source": [
    "class NeuralNetwork(nn.Module):\n",
    "\n",
    "    '''\n",
    "    =============================\n",
    "    This class initializes the neural network model. \n",
    "    The init function has several hidden layers, \n",
    "    the parameters of which are configured in the widget above\n",
    "    =============================\n",
    "    '''\n",
    "    \n",
    "    def __init__(self):\n",
    "        super(NeuralNetwork, self).__init__()\n",
    "        self.fc1 = nn.Linear(8, int_layer_size_widget.value)\n",
    "        init.trunc_normal_(tensor=self.fc1.weight,mean=0,std=0.1,a=-1,b=1)\n",
    "\n",
    "        self.dropout1 = nn.Dropout(0.5)  \n",
    "        self.fc2 = nn.Linear(int_layer_size_widget.value, hide_layer_size_widget.value)\n",
    "        init.trunc_normal_(tensor=self.fc2.weight,mean=0,std=0.1,a=-1,b=1)\n",
    "\n",
    "        self.dropout2 = nn.Dropout(0.5)\n",
    "        self.fc3 = nn.Linear(hide_layer_size_widget.value, hide_layer_size_widget.value)\n",
    "        init.trunc_normal_(tensor=self.fc3.weight,mean=0,std=0.1,a=-1,b=1)\n",
    "\n",
    "        self.dropout3 = nn.Dropout(0.5)\n",
    "        self.fc4 = nn.Linear(hide_layer_size_widget.value,1)\n",
    "        init.trunc_normal_(tensor=self.fc4.weight,mean=0,std=0.1,a=-1,b=1)\n",
    "\n",
    "        self.sigmoid = nn.Threshold(threshold=threshold_widget.value,value=0)\n",
    "    \n",
    "    def forward(self, x):\n",
    "        x = F.tanh(self.fc1(x))\n",
    "\n",
    "        x = self.dropout1(x)\n",
    "        x = F.tanh(self.fc2(x))\n",
    "\n",
    "        \n",
    "        x = self.dropout2(x)\n",
    "        x = F.tanh(self.fc3(x))\n",
    "\n",
    "        x = self.dropout3(x)\n",
    "        x = F.tanh(self.fc4(x))\n",
    "\n",
    "        x = self.sigmoid(x)\n",
    "        x = torch.round(x)\n",
    "        return x"
   ]
  },
  {
   "cell_type": "code",
   "execution_count": 444,
   "metadata": {},
   "outputs": [],
   "source": [
    "class CustomDataset(Dataset):\n",
    "    def __init__(self, data, targets):\n",
    "        self.data = data\n",
    "        self.targets = targets\n",
    "\n",
    "    def __len__(self):\n",
    "        return len(self.data)\n",
    "\n",
    "    def __getitem__(self, index):\n",
    "        x = self.data[index]\n",
    "        y = self.targets[index]\n",
    "        return x, y"
   ]
  },
  {
   "cell_type": "code",
   "execution_count": 445,
   "metadata": {},
   "outputs": [],
   "source": [
    "y_train = torch.tensor(y_train.values, dtype=torch.float)\n",
    "X_train_normal = torch.tensor(X_train_normal.values,dtype=torch.float)\n",
    "\n",
    "y_test = torch.tensor(y_test.values, dtype=torch.float)\n",
    "X_test = torch.tensor(X_test.values,dtype=torch.float)\n",
    "\n",
    "y_val = torch.tensor(y_val.values, dtype=torch.float)\n",
    "X_val = torch.tensor(X_val.values,dtype=torch.float)"
   ]
  },
  {
   "cell_type": "code",
   "execution_count": 446,
   "metadata": {},
   "outputs": [],
   "source": [
    "y_train = y_train.unsqueeze(1)\n",
    "train_dataset = CustomDataset(X_train_normal, y_train)\n",
    "\n",
    "y_test = y_test.unsqueeze(1)\n",
    "test_dataset = CustomDataset(X_test, y_test)\n",
    "\n",
    "y_val = y_test.unsqueeze(1)\n",
    "X_val = CustomDataset(X_test, y_test)"
   ]
  },
  {
   "cell_type": "code",
   "execution_count": 447,
   "metadata": {},
   "outputs": [],
   "source": [
    "batchsize_widget = widgets.BoundedIntText(value=64, min=16,max=256,step=2, style=bounded_text_style)\n",
    "batchsize_widget_box = HBox([Label('Batchsize: '), batchsize_widget])"
   ]
  },
  {
   "cell_type": "code",
   "execution_count": 448,
   "metadata": {},
   "outputs": [
    {
     "data": {
      "application/vnd.jupyter.widget-view+json": {
       "model_id": "3e6eef9e42ce498f88efd619c5ec15b5",
       "version_major": 2,
       "version_minor": 0
      },
      "text/plain": [
       "HBox(children=(Label(value='Batchsize: '), BoundedIntText(value=64, max=256, min=16, step=2, style=Description…"
      ]
     },
     "metadata": {},
     "output_type": "display_data"
    }
   ],
   "source": [
    "display(batchsize_widget_box)"
   ]
  },
  {
   "cell_type": "code",
   "execution_count": 572,
   "metadata": {},
   "outputs": [],
   "source": [
    "train_dataloader = DataLoader(dataset=train_dataset, batch_size=batchsize_widget.value, shuffle=True)\n",
    "test_dataloader = DataLoader(dataset=test_dataset, batch_size=batchsize_widget.value, shuffle=True)\n",
    "val_dataloader = DataLoader(dataset=test_dataset, batch_size=batchsize_widget.value, shuffle=True)\n"
   ]
  },
  {
   "cell_type": "code",
   "execution_count": 450,
   "metadata": {},
   "outputs": [],
   "source": [
    "def test(model, test_loader):\n",
    "\n",
    "    '''\n",
    "    =============================\n",
    "    this function evaluates \n",
    "    the performance of the neural network\n",
    "    =============================\n",
    "    '''\n",
    "    \n",
    "    model.eval()\n",
    "    correct = 0\n",
    "    total = 0\n",
    "    \n",
    "    with torch.no_grad():\n",
    "        for inputs, labels in test_loader:\n",
    "            outputs = model(inputs)\n",
    "            predicted = (outputs > 0.5).float()\n",
    "            total += labels.size(0)\n",
    "            correct += (predicted == labels).sum().item()\n",
    "        \n",
    "    accuracy = 100 * correct / total \n",
    "    return accuracy"
   ]
  },
  {
   "cell_type": "code",
   "execution_count": 569,
   "metadata": {},
   "outputs": [],
   "source": [
    "def train_model(model, train_loader, test_loader, val_loader, epochs, optimizer, print_plot):\n",
    "\n",
    "    '''\n",
    "    =============================\n",
    "    This function trains the neural network. \n",
    "    This is a standard function from the PyTorch documentation, \n",
    "    but with some modifications for convenience \n",
    "    (plots and accuracy assessment).\n",
    "    =============================\n",
    "    '''\n",
    "\n",
    "    model.train()\n",
    "    criterion = nn.CrossEntropyLoss()\n",
    "    \n",
    "    accuracies = []\n",
    "    test_accuracies = []\n",
    "\n",
    "    last_accuracy = 0\n",
    "\n",
    "    for epoch in range(epochs):\n",
    "        correct = 0\n",
    "        total = 0\n",
    "        for batch_idx,(inputs, labels) in enumerate(train_loader):\n",
    "            optimizer.zero_grad()\n",
    "            outputs = model(inputs)\n",
    "            loss = criterion(outputs, labels)\n",
    "            loss.backward()\n",
    "            optimizer.step()\n",
    "        \n",
    "            total += labels.size(0)\n",
    "            correct += (outputs == labels).float().sum()\n",
    "        accuracy = 100 * correct / total\n",
    "        last_accuracy = accuracy\n",
    "\n",
    "        test_accuracy = test(model=model,test_loader=val_loader) \n",
    "\n",
    "        accuracies.append(accuracy)\n",
    "        test_accuracies.append(test_accuracy)\n",
    "\n",
    "        if test_accuracy > 75:\n",
    "            break\n",
    "\n",
    "    \n",
    "    if print_plot is True:\n",
    "        plt.plot(range(1, len(accuracies) + 1), accuracies, label='Train Accuracy')\n",
    "        plt.plot(range(1, len(accuracies) + 1),  test_accuracies, label='Test Accuracy')\n",
    "        plt.xlabel('Epoch')\n",
    "        plt.ylabel('Accuracy(%)')\n",
    "        plt.title(f'{optimizer.__class__.__name__}')\n",
    "        plt.legend()\n",
    "        plt.show()\n",
    "\n",
    "    test_accuracy = test(model=model,test_loader=test_loader) \n",
    "    return( last_accuracy.item(), test_accuracy)"
   ]
  },
  {
   "cell_type": "code",
   "execution_count": 453,
   "metadata": {},
   "outputs": [],
   "source": [
    "columns_labels = ['model','lr', 'momentum','amsgrad','weight_decay','epochs', 'train_score','test_score']\n",
    "score_df = pd.DataFrame(columns=columns_labels)"
   ]
  },
  {
   "cell_type": "code",
   "execution_count": 454,
   "metadata": {},
   "outputs": [],
   "source": [
    "num_lr = [0.1**5, 0.1**4, 0.1 **3, 0.1**2]\n",
    "num_momentum = [0.5, 0.75, 0.9]\n",
    "is_amsgrad = [True, False]\n",
    "num_weight_decay = [0.01, 0.1, 0.5, 0.9]\n",
    "epochs = 400"
   ]
  },
  {
   "cell_type": "code",
   "execution_count": 456,
   "metadata": {},
   "outputs": [
    {
     "name": "stdout",
     "output_type": "stream",
     "text": [
      "[1]  optimizer: Adam | lr:1.0000000000000003e-05 | momentum:0.5 | amsgrad:True | decay:0.01 | epochs:400\n",
      "[!] train_accuracy: 65.9218 | test_accuracy: 44.697\n",
      " \n",
      "[2]  optimizer: Adam | lr:1.0000000000000003e-05 | momentum:0.5 | amsgrad:True | decay:0.1 | epochs:400\n"
     ]
    },
    {
     "name": "stderr",
     "output_type": "stream",
     "text": [
      "C:\\Users\\Senya\\AppData\\Local\\Temp\\ipykernel_16996\\221347933.py:24: FutureWarning: The behavior of DataFrame concatenation with empty or all-NA entries is deprecated. In a future version, this will no longer exclude empty or all-NA columns when determining the result dtypes. To retain the old behavior, exclude the relevant entries before the concat operation.\n",
      "  score_df = pd.concat([score_df,model_df], ignore_index=True)\n"
     ]
    },
    {
     "name": "stdout",
     "output_type": "stream",
     "text": [
      "[!] train_accuracy: 65.9218 | test_accuracy: 61.3636\n",
      " \n",
      "[3]  optimizer: Adam | lr:1.0000000000000003e-05 | momentum:0.5 | amsgrad:True | decay:0.5 | epochs:400\n",
      "[!] train_accuracy: 65.9218 | test_accuracy: 59.8485\n",
      " \n",
      "[4]  optimizer: Adam | lr:1.0000000000000003e-05 | momentum:0.5 | amsgrad:True | decay:0.9 | epochs:400\n",
      "[!] train_accuracy: 65.9218 | test_accuracy: 59.8485\n",
      " \n",
      "[5]  optimizer: Adam | lr:1.0000000000000003e-05 | momentum:0.5 | amsgrad:False | decay:0.01 | epochs:400\n",
      "[!] train_accuracy: 65.9218 | test_accuracy: 61.3636\n",
      " \n",
      "[6]  optimizer: Adam | lr:1.0000000000000003e-05 | momentum:0.5 | amsgrad:False | decay:0.1 | epochs:400\n",
      "[!] train_accuracy: 65.9218 | test_accuracy: 59.8485\n",
      " \n",
      "[7]  optimizer: Adam | lr:1.0000000000000003e-05 | momentum:0.5 | amsgrad:False | decay:0.5 | epochs:400\n",
      "[!] train_accuracy: 65.9218 | test_accuracy: 59.8485\n",
      " \n",
      "[8]  optimizer: Adam | lr:1.0000000000000003e-05 | momentum:0.5 | amsgrad:False | decay:0.9 | epochs:400\n",
      "[!] train_accuracy: 65.9218 | test_accuracy: 59.8485\n",
      " \n",
      "[9]  optimizer: Adam | lr:1.0000000000000003e-05 | momentum:0.75 | amsgrad:True | decay:0.01 | epochs:400\n",
      "[!] train_accuracy: 65.9218 | test_accuracy: 59.8485\n",
      " \n",
      "[10]  optimizer: Adam | lr:1.0000000000000003e-05 | momentum:0.75 | amsgrad:True | decay:0.1 | epochs:400\n",
      "[!] train_accuracy: 65.9218 | test_accuracy: 59.8485\n",
      " \n",
      "[11]  optimizer: Adam | lr:1.0000000000000003e-05 | momentum:0.75 | amsgrad:True | decay:0.5 | epochs:400\n",
      "[!] train_accuracy: 65.9218 | test_accuracy: 59.8485\n",
      " \n",
      "[12]  optimizer: Adam | lr:1.0000000000000003e-05 | momentum:0.75 | amsgrad:True | decay:0.9 | epochs:400\n",
      "[!] train_accuracy: 65.9218 | test_accuracy: 59.8485\n",
      " \n",
      "[13]  optimizer: Adam | lr:1.0000000000000003e-05 | momentum:0.75 | amsgrad:False | decay:0.01 | epochs:400\n",
      "[!] train_accuracy: 65.9218 | test_accuracy: 59.8485\n",
      " \n",
      "[14]  optimizer: Adam | lr:1.0000000000000003e-05 | momentum:0.75 | amsgrad:False | decay:0.1 | epochs:400\n",
      "[!] train_accuracy: 65.9218 | test_accuracy: 52.2727\n",
      " \n",
      "[15]  optimizer: Adam | lr:1.0000000000000003e-05 | momentum:0.75 | amsgrad:False | decay:0.5 | epochs:400\n",
      "[!] train_accuracy: 65.9218 | test_accuracy: 59.8485\n",
      " \n",
      "[16]  optimizer: Adam | lr:1.0000000000000003e-05 | momentum:0.75 | amsgrad:False | decay:0.9 | epochs:400\n",
      "[!] train_accuracy: 65.9218 | test_accuracy: 58.3333\n",
      " \n",
      "[17]  optimizer: Adam | lr:1.0000000000000003e-05 | momentum:0.9 | amsgrad:True | decay:0.01 | epochs:400\n",
      "[!] train_accuracy: 65.9218 | test_accuracy: 50.7576\n",
      " \n",
      "[18]  optimizer: Adam | lr:1.0000000000000003e-05 | momentum:0.9 | amsgrad:True | decay:0.1 | epochs:400\n",
      "[!] train_accuracy: 65.9218 | test_accuracy: 59.8485\n",
      " \n",
      "[19]  optimizer: Adam | lr:1.0000000000000003e-05 | momentum:0.9 | amsgrad:True | decay:0.5 | epochs:400\n",
      "[!] train_accuracy: 65.9218 | test_accuracy: 66.6667\n",
      " \n",
      "[20]  optimizer: Adam | lr:1.0000000000000003e-05 | momentum:0.9 | amsgrad:True | decay:0.9 | epochs:400\n",
      "[!] train_accuracy: 65.9218 | test_accuracy: 59.8485\n",
      " \n",
      "[21]  optimizer: Adam | lr:1.0000000000000003e-05 | momentum:0.9 | amsgrad:False | decay:0.01 | epochs:400\n",
      "[!] train_accuracy: 65.9218 | test_accuracy: 59.8485\n",
      " \n",
      "[22]  optimizer: Adam | lr:1.0000000000000003e-05 | momentum:0.9 | amsgrad:False | decay:0.1 | epochs:400\n",
      "[!] train_accuracy: 65.9218 | test_accuracy: 57.5758\n",
      " \n",
      "[23]  optimizer: Adam | lr:1.0000000000000003e-05 | momentum:0.9 | amsgrad:False | decay:0.5 | epochs:400\n",
      "[!] train_accuracy: 65.9218 | test_accuracy: 54.5455\n",
      " \n",
      "[24]  optimizer: Adam | lr:1.0000000000000003e-05 | momentum:0.9 | amsgrad:False | decay:0.9 | epochs:400\n",
      "[!] train_accuracy: 65.9218 | test_accuracy: 59.8485\n",
      " \n",
      "[25]  optimizer: Adam | lr:0.00010000000000000002 | momentum:0.5 | amsgrad:True | decay:0.01 | epochs:400\n",
      "[!] train_accuracy: 65.9218 | test_accuracy: 59.8485\n",
      " \n",
      "[26]  optimizer: Adam | lr:0.00010000000000000002 | momentum:0.5 | amsgrad:True | decay:0.1 | epochs:400\n",
      "[!] train_accuracy: 65.9218 | test_accuracy: 59.8485\n",
      " \n",
      "[27]  optimizer: Adam | lr:0.00010000000000000002 | momentum:0.5 | amsgrad:True | decay:0.5 | epochs:400\n",
      "[!] train_accuracy: 65.9218 | test_accuracy: 59.8485\n",
      " \n",
      "[28]  optimizer: Adam | lr:0.00010000000000000002 | momentum:0.5 | amsgrad:True | decay:0.9 | epochs:400\n",
      "[!] train_accuracy: 65.9218 | test_accuracy: 59.8485\n",
      " \n",
      "[29]  optimizer: Adam | lr:0.00010000000000000002 | momentum:0.5 | amsgrad:False | decay:0.01 | epochs:400\n",
      "[!] train_accuracy: 65.9218 | test_accuracy: 59.8485\n",
      " \n",
      "[30]  optimizer: Adam | lr:0.00010000000000000002 | momentum:0.5 | amsgrad:False | decay:0.1 | epochs:400\n",
      "[!] train_accuracy: 65.9218 | test_accuracy: 59.8485\n",
      " \n",
      "[31]  optimizer: Adam | lr:0.00010000000000000002 | momentum:0.5 | amsgrad:False | decay:0.5 | epochs:400\n",
      "[!] train_accuracy: 65.9218 | test_accuracy: 59.8485\n",
      " \n",
      "[32]  optimizer: Adam | lr:0.00010000000000000002 | momentum:0.5 | amsgrad:False | decay:0.9 | epochs:400\n",
      "[!] train_accuracy: 65.9218 | test_accuracy: 59.8485\n",
      " \n",
      "[33]  optimizer: Adam | lr:0.00010000000000000002 | momentum:0.75 | amsgrad:True | decay:0.01 | epochs:400\n",
      "[!] train_accuracy: 65.9218 | test_accuracy: 59.8485\n",
      " \n",
      "[34]  optimizer: Adam | lr:0.00010000000000000002 | momentum:0.75 | amsgrad:True | decay:0.1 | epochs:400\n",
      "[!] train_accuracy: 65.9218 | test_accuracy: 59.8485\n",
      " \n",
      "[35]  optimizer: Adam | lr:0.00010000000000000002 | momentum:0.75 | amsgrad:True | decay:0.5 | epochs:400\n",
      "[!] train_accuracy: 65.9218 | test_accuracy: 59.8485\n",
      " \n",
      "[36]  optimizer: Adam | lr:0.00010000000000000002 | momentum:0.75 | amsgrad:True | decay:0.9 | epochs:400\n",
      "[!] train_accuracy: 65.9218 | test_accuracy: 59.8485\n",
      " \n",
      "[37]  optimizer: Adam | lr:0.00010000000000000002 | momentum:0.75 | amsgrad:False | decay:0.01 | epochs:400\n",
      "[!] train_accuracy: 65.9218 | test_accuracy: 59.8485\n",
      " \n",
      "[38]  optimizer: Adam | lr:0.00010000000000000002 | momentum:0.75 | amsgrad:False | decay:0.1 | epochs:400\n",
      "[!] train_accuracy: 65.9218 | test_accuracy: 59.8485\n",
      " \n",
      "[39]  optimizer: Adam | lr:0.00010000000000000002 | momentum:0.75 | amsgrad:False | decay:0.5 | epochs:400\n",
      "[!] train_accuracy: 65.9218 | test_accuracy: 59.8485\n",
      " \n",
      "[40]  optimizer: Adam | lr:0.00010000000000000002 | momentum:0.75 | amsgrad:False | decay:0.9 | epochs:400\n",
      "[!] train_accuracy: 65.9218 | test_accuracy: 59.8485\n",
      " \n",
      "[41]  optimizer: Adam | lr:0.00010000000000000002 | momentum:0.9 | amsgrad:True | decay:0.01 | epochs:400\n",
      "[!] train_accuracy: 65.9218 | test_accuracy: 59.8485\n",
      " \n",
      "[42]  optimizer: Adam | lr:0.00010000000000000002 | momentum:0.9 | amsgrad:True | decay:0.1 | epochs:400\n",
      "[!] train_accuracy: 65.9218 | test_accuracy: 59.8485\n",
      " \n",
      "[43]  optimizer: Adam | lr:0.00010000000000000002 | momentum:0.9 | amsgrad:True | decay:0.5 | epochs:400\n",
      "[!] train_accuracy: 65.9218 | test_accuracy: 59.8485\n",
      " \n",
      "[44]  optimizer: Adam | lr:0.00010000000000000002 | momentum:0.9 | amsgrad:True | decay:0.9 | epochs:400\n",
      "[!] train_accuracy: 65.9218 | test_accuracy: 59.8485\n",
      " \n",
      "[45]  optimizer: Adam | lr:0.00010000000000000002 | momentum:0.9 | amsgrad:False | decay:0.01 | epochs:400\n",
      "[!] train_accuracy: 65.9218 | test_accuracy: 59.8485\n",
      " \n",
      "[46]  optimizer: Adam | lr:0.00010000000000000002 | momentum:0.9 | amsgrad:False | decay:0.1 | epochs:400\n",
      "[!] train_accuracy: 65.9218 | test_accuracy: 59.8485\n",
      " \n",
      "[47]  optimizer: Adam | lr:0.00010000000000000002 | momentum:0.9 | amsgrad:False | decay:0.5 | epochs:400\n",
      "[!] train_accuracy: 65.9218 | test_accuracy: 59.8485\n",
      " \n",
      "[48]  optimizer: Adam | lr:0.00010000000000000002 | momentum:0.9 | amsgrad:False | decay:0.9 | epochs:400\n",
      "[!] train_accuracy: 65.9218 | test_accuracy: 59.8485\n",
      " \n",
      "[49]  optimizer: Adam | lr:0.0010000000000000002 | momentum:0.5 | amsgrad:True | decay:0.01 | epochs:400\n",
      "[!] train_accuracy: 65.9218 | test_accuracy: 59.8485\n",
      " \n",
      "[50]  optimizer: Adam | lr:0.0010000000000000002 | momentum:0.5 | amsgrad:True | decay:0.1 | epochs:400\n",
      "[!] train_accuracy: 65.9218 | test_accuracy: 59.8485\n",
      " \n",
      "[51]  optimizer: Adam | lr:0.0010000000000000002 | momentum:0.5 | amsgrad:True | decay:0.5 | epochs:400\n",
      "[!] train_accuracy: 65.9218 | test_accuracy: 59.8485\n",
      " \n",
      "[52]  optimizer: Adam | lr:0.0010000000000000002 | momentum:0.5 | amsgrad:True | decay:0.9 | epochs:400\n",
      "[!] train_accuracy: 65.9218 | test_accuracy: 59.8485\n",
      " \n",
      "[53]  optimizer: Adam | lr:0.0010000000000000002 | momentum:0.5 | amsgrad:False | decay:0.01 | epochs:400\n",
      "[!] train_accuracy: 65.9218 | test_accuracy: 59.8485\n",
      " \n",
      "[54]  optimizer: Adam | lr:0.0010000000000000002 | momentum:0.5 | amsgrad:False | decay:0.1 | epochs:400\n",
      "[!] train_accuracy: 65.9218 | test_accuracy: 59.8485\n",
      " \n",
      "[55]  optimizer: Adam | lr:0.0010000000000000002 | momentum:0.5 | amsgrad:False | decay:0.5 | epochs:400\n",
      "[!] train_accuracy: 65.9218 | test_accuracy: 59.8485\n",
      " \n",
      "[56]  optimizer: Adam | lr:0.0010000000000000002 | momentum:0.5 | amsgrad:False | decay:0.9 | epochs:400\n",
      "[!] train_accuracy: 65.9218 | test_accuracy: 59.8485\n",
      " \n",
      "[57]  optimizer: Adam | lr:0.0010000000000000002 | momentum:0.75 | amsgrad:True | decay:0.01 | epochs:400\n",
      "[!] train_accuracy: 65.9218 | test_accuracy: 59.8485\n",
      " \n",
      "[58]  optimizer: Adam | lr:0.0010000000000000002 | momentum:0.75 | amsgrad:True | decay:0.1 | epochs:400\n",
      "[!] train_accuracy: 65.9218 | test_accuracy: 59.8485\n",
      " \n",
      "[59]  optimizer: Adam | lr:0.0010000000000000002 | momentum:0.75 | amsgrad:True | decay:0.5 | epochs:400\n",
      "[!] train_accuracy: 65.9218 | test_accuracy: 59.8485\n",
      " \n",
      "[60]  optimizer: Adam | lr:0.0010000000000000002 | momentum:0.75 | amsgrad:True | decay:0.9 | epochs:400\n",
      "[!] train_accuracy: 65.9218 | test_accuracy: 59.8485\n",
      " \n",
      "[61]  optimizer: Adam | lr:0.0010000000000000002 | momentum:0.75 | amsgrad:False | decay:0.01 | epochs:400\n",
      "[!] train_accuracy: 65.9218 | test_accuracy: 59.8485\n",
      " \n",
      "[62]  optimizer: Adam | lr:0.0010000000000000002 | momentum:0.75 | amsgrad:False | decay:0.1 | epochs:400\n",
      "[!] train_accuracy: 65.9218 | test_accuracy: 59.8485\n",
      " \n",
      "[63]  optimizer: Adam | lr:0.0010000000000000002 | momentum:0.75 | amsgrad:False | decay:0.5 | epochs:400\n",
      "[!] train_accuracy: 65.9218 | test_accuracy: 59.8485\n",
      " \n",
      "[64]  optimizer: Adam | lr:0.0010000000000000002 | momentum:0.75 | amsgrad:False | decay:0.9 | epochs:400\n",
      "[!] train_accuracy: 65.9218 | test_accuracy: 59.8485\n",
      " \n",
      "[65]  optimizer: Adam | lr:0.0010000000000000002 | momentum:0.9 | amsgrad:True | decay:0.01 | epochs:400\n",
      "[!] train_accuracy: 65.9218 | test_accuracy: 59.8485\n",
      " \n",
      "[66]  optimizer: Adam | lr:0.0010000000000000002 | momentum:0.9 | amsgrad:True | decay:0.1 | epochs:400\n",
      "[!] train_accuracy: 65.9218 | test_accuracy: 59.8485\n",
      " \n",
      "[67]  optimizer: Adam | lr:0.0010000000000000002 | momentum:0.9 | amsgrad:True | decay:0.5 | epochs:400\n",
      "[!] train_accuracy: 65.9218 | test_accuracy: 59.8485\n",
      " \n",
      "[68]  optimizer: Adam | lr:0.0010000000000000002 | momentum:0.9 | amsgrad:True | decay:0.9 | epochs:400\n",
      "[!] train_accuracy: 65.9218 | test_accuracy: 59.8485\n",
      " \n",
      "[69]  optimizer: Adam | lr:0.0010000000000000002 | momentum:0.9 | amsgrad:False | decay:0.01 | epochs:400\n",
      "[!] train_accuracy: 65.9218 | test_accuracy: 59.8485\n",
      " \n",
      "[70]  optimizer: Adam | lr:0.0010000000000000002 | momentum:0.9 | amsgrad:False | decay:0.1 | epochs:400\n",
      "[!] train_accuracy: 65.9218 | test_accuracy: 59.8485\n",
      " \n",
      "[71]  optimizer: Adam | lr:0.0010000000000000002 | momentum:0.9 | amsgrad:False | decay:0.5 | epochs:400\n",
      "[!] train_accuracy: 65.9218 | test_accuracy: 59.8485\n",
      " \n",
      "[72]  optimizer: Adam | lr:0.0010000000000000002 | momentum:0.9 | amsgrad:False | decay:0.9 | epochs:400\n",
      "[!] train_accuracy: 65.9218 | test_accuracy: 59.8485\n",
      " \n",
      "[73]  optimizer: Adam | lr:0.010000000000000002 | momentum:0.5 | amsgrad:True | decay:0.01 | epochs:400\n",
      "[!] train_accuracy: 65.9218 | test_accuracy: 59.8485\n",
      " \n",
      "[74]  optimizer: Adam | lr:0.010000000000000002 | momentum:0.5 | amsgrad:True | decay:0.1 | epochs:400\n",
      "[!] train_accuracy: 65.9218 | test_accuracy: 59.8485\n",
      " \n",
      "[75]  optimizer: Adam | lr:0.010000000000000002 | momentum:0.5 | amsgrad:True | decay:0.5 | epochs:400\n",
      "[!] train_accuracy: 65.9218 | test_accuracy: 59.8485\n",
      " \n",
      "[76]  optimizer: Adam | lr:0.010000000000000002 | momentum:0.5 | amsgrad:True | decay:0.9 | epochs:400\n",
      "[!] train_accuracy: 65.9218 | test_accuracy: 59.8485\n",
      " \n",
      "[77]  optimizer: Adam | lr:0.010000000000000002 | momentum:0.5 | amsgrad:False | decay:0.01 | epochs:400\n",
      "[!] train_accuracy: 65.9218 | test_accuracy: 59.8485\n",
      " \n",
      "[78]  optimizer: Adam | lr:0.010000000000000002 | momentum:0.5 | amsgrad:False | decay:0.1 | epochs:400\n",
      "[!] train_accuracy: 65.9218 | test_accuracy: 59.8485\n",
      " \n",
      "[79]  optimizer: Adam | lr:0.010000000000000002 | momentum:0.5 | amsgrad:False | decay:0.5 | epochs:400\n",
      "[!] train_accuracy: 65.9218 | test_accuracy: 59.8485\n",
      " \n",
      "[80]  optimizer: Adam | lr:0.010000000000000002 | momentum:0.5 | amsgrad:False | decay:0.9 | epochs:400\n",
      "[!] train_accuracy: 65.9218 | test_accuracy: 59.8485\n",
      " \n",
      "[81]  optimizer: Adam | lr:0.010000000000000002 | momentum:0.75 | amsgrad:True | decay:0.01 | epochs:400\n",
      "[!] train_accuracy: 65.9218 | test_accuracy: 59.8485\n",
      " \n",
      "[82]  optimizer: Adam | lr:0.010000000000000002 | momentum:0.75 | amsgrad:True | decay:0.1 | epochs:400\n",
      "[!] train_accuracy: 65.9218 | test_accuracy: 59.8485\n",
      " \n",
      "[83]  optimizer: Adam | lr:0.010000000000000002 | momentum:0.75 | amsgrad:True | decay:0.5 | epochs:400\n",
      "[!] train_accuracy: 65.9218 | test_accuracy: 59.8485\n",
      " \n",
      "[84]  optimizer: Adam | lr:0.010000000000000002 | momentum:0.75 | amsgrad:True | decay:0.9 | epochs:400\n",
      "[!] train_accuracy: 65.9218 | test_accuracy: 59.8485\n",
      " \n",
      "[85]  optimizer: Adam | lr:0.010000000000000002 | momentum:0.75 | amsgrad:False | decay:0.01 | epochs:400\n",
      "[!] train_accuracy: 65.9218 | test_accuracy: 59.8485\n",
      " \n",
      "[86]  optimizer: Adam | lr:0.010000000000000002 | momentum:0.75 | amsgrad:False | decay:0.1 | epochs:400\n",
      "[!] train_accuracy: 65.9218 | test_accuracy: 59.8485\n",
      " \n",
      "[87]  optimizer: Adam | lr:0.010000000000000002 | momentum:0.75 | amsgrad:False | decay:0.5 | epochs:400\n",
      "[!] train_accuracy: 65.9218 | test_accuracy: 59.8485\n",
      " \n",
      "[88]  optimizer: Adam | lr:0.010000000000000002 | momentum:0.75 | amsgrad:False | decay:0.9 | epochs:400\n",
      "[!] train_accuracy: 65.9218 | test_accuracy: 59.8485\n",
      " \n",
      "[89]  optimizer: Adam | lr:0.010000000000000002 | momentum:0.9 | amsgrad:True | decay:0.01 | epochs:400\n",
      "[!] train_accuracy: 65.9218 | test_accuracy: 59.8485\n",
      " \n",
      "[90]  optimizer: Adam | lr:0.010000000000000002 | momentum:0.9 | amsgrad:True | decay:0.1 | epochs:400\n",
      "[!] train_accuracy: 65.9218 | test_accuracy: 59.8485\n",
      " \n",
      "[91]  optimizer: Adam | lr:0.010000000000000002 | momentum:0.9 | amsgrad:True | decay:0.5 | epochs:400\n",
      "[!] train_accuracy: 65.9218 | test_accuracy: 59.8485\n",
      " \n",
      "[92]  optimizer: Adam | lr:0.010000000000000002 | momentum:0.9 | amsgrad:True | decay:0.9 | epochs:400\n",
      "[!] train_accuracy: 65.9218 | test_accuracy: 59.8485\n",
      " \n",
      "[93]  optimizer: Adam | lr:0.010000000000000002 | momentum:0.9 | amsgrad:False | decay:0.01 | epochs:400\n",
      "[!] train_accuracy: 65.9218 | test_accuracy: 59.8485\n",
      " \n",
      "[94]  optimizer: Adam | lr:0.010000000000000002 | momentum:0.9 | amsgrad:False | decay:0.1 | epochs:400\n",
      "[!] train_accuracy: 65.9218 | test_accuracy: 59.8485\n",
      " \n",
      "[95]  optimizer: Adam | lr:0.010000000000000002 | momentum:0.9 | amsgrad:False | decay:0.5 | epochs:400\n",
      "[!] train_accuracy: 65.9218 | test_accuracy: 59.8485\n",
      " \n",
      "[96]  optimizer: Adam | lr:0.010000000000000002 | momentum:0.9 | amsgrad:False | decay:0.9 | epochs:400\n",
      "[!] train_accuracy: 65.9218 | test_accuracy: 59.8485\n",
      " \n"
     ]
    }
   ],
   "source": [
    "i = 1\n",
    "for lr in num_lr:\n",
    "    for momentum in num_momentum:\n",
    "        for amsgrad in is_amsgrad:\n",
    "            for weight_decay in num_weight_decay:\n",
    "                    \n",
    "                nn_model = NeuralNetwork()\n",
    "                adam_optim = optim.Adam(nn_model.parameters(),lr = lr,weight_decay = weight_decay, amsgrad = amsgrad)\n",
    "\n",
    "                print(f'[{i}]  optimizer: {adam_optim.__class__.__name__} | lr:{lr} | momentum:{momentum} | amsgrad:{amsgrad} | decay:{weight_decay} | epochs:{epochs}')\n",
    "\n",
    "                train_accuracy, test_accuracy = train_model(model = nn_model,\n",
    "                                                            train_loader = train_dataloader,\n",
    "                                                            test_loader = test_dataloader,\n",
    "                                                            val_loader = val_dataloader,\n",
    "                                                            epochs = epochs,\n",
    "                                                            optimizer = adam_optim, \n",
    "                                                            print_plot = False)\n",
    "\n",
    "                print(f'[!] train_accuracy: {round(train_accuracy,4)} | test_accuracy: {round(test_accuracy,4)}')\n",
    "                print(' ')\n",
    "\n",
    "                model_df = pd.DataFrame(data=[[adam_optim.__class__.__name__,lr,momentum,amsgrad,weight_decay,epochs,train_accuracy,test_accuracy]], columns = columns_labels)\n",
    "                score_df = pd.concat([score_df,model_df], ignore_index=True)\n",
    "                    \n",
    "                i = i + 1\n",
    "                test(nn_model,test_dataloader)"
   ]
  },
  {
   "cell_type": "code",
   "execution_count": 457,
   "metadata": {},
   "outputs": [
    {
     "data": {
      "text/html": [
       "<div>\n",
       "<style scoped>\n",
       "    .dataframe tbody tr th:only-of-type {\n",
       "        vertical-align: middle;\n",
       "    }\n",
       "\n",
       "    .dataframe tbody tr th {\n",
       "        vertical-align: top;\n",
       "    }\n",
       "\n",
       "    .dataframe thead th {\n",
       "        text-align: right;\n",
       "    }\n",
       "</style>\n",
       "<table border=\"1\" class=\"dataframe\">\n",
       "  <thead>\n",
       "    <tr style=\"text-align: right;\">\n",
       "      <th></th>\n",
       "      <th>model</th>\n",
       "      <th>lr</th>\n",
       "      <th>momentum</th>\n",
       "      <th>amsgrad</th>\n",
       "      <th>weight_decay</th>\n",
       "      <th>epochs</th>\n",
       "      <th>train_score</th>\n",
       "      <th>test_score</th>\n",
       "    </tr>\n",
       "  </thead>\n",
       "  <tbody>\n",
       "    <tr>\n",
       "      <th>18</th>\n",
       "      <td>Adam</td>\n",
       "      <td>0.00001</td>\n",
       "      <td>0.90</td>\n",
       "      <td>True</td>\n",
       "      <td>0.50</td>\n",
       "      <td>400</td>\n",
       "      <td>65.921791</td>\n",
       "      <td>66.666667</td>\n",
       "    </tr>\n",
       "    <tr>\n",
       "      <th>1</th>\n",
       "      <td>Adam</td>\n",
       "      <td>0.00001</td>\n",
       "      <td>0.50</td>\n",
       "      <td>True</td>\n",
       "      <td>0.10</td>\n",
       "      <td>400</td>\n",
       "      <td>65.921791</td>\n",
       "      <td>61.363636</td>\n",
       "    </tr>\n",
       "    <tr>\n",
       "      <th>4</th>\n",
       "      <td>Adam</td>\n",
       "      <td>0.00001</td>\n",
       "      <td>0.50</td>\n",
       "      <td>False</td>\n",
       "      <td>0.01</td>\n",
       "      <td>400</td>\n",
       "      <td>65.921791</td>\n",
       "      <td>61.363636</td>\n",
       "    </tr>\n",
       "    <tr>\n",
       "      <th>61</th>\n",
       "      <td>Adam</td>\n",
       "      <td>0.00100</td>\n",
       "      <td>0.75</td>\n",
       "      <td>False</td>\n",
       "      <td>0.10</td>\n",
       "      <td>400</td>\n",
       "      <td>65.921791</td>\n",
       "      <td>59.848485</td>\n",
       "    </tr>\n",
       "    <tr>\n",
       "      <th>70</th>\n",
       "      <td>Adam</td>\n",
       "      <td>0.00100</td>\n",
       "      <td>0.90</td>\n",
       "      <td>False</td>\n",
       "      <td>0.50</td>\n",
       "      <td>400</td>\n",
       "      <td>65.921791</td>\n",
       "      <td>59.848485</td>\n",
       "    </tr>\n",
       "  </tbody>\n",
       "</table>\n",
       "</div>"
      ],
      "text/plain": [
       "   model       lr  momentum amsgrad  weight_decay epochs  train_score  \\\n",
       "18  Adam  0.00001      0.90    True          0.50    400    65.921791   \n",
       "1   Adam  0.00001      0.50    True          0.10    400    65.921791   \n",
       "4   Adam  0.00001      0.50   False          0.01    400    65.921791   \n",
       "61  Adam  0.00100      0.75   False          0.10    400    65.921791   \n",
       "70  Adam  0.00100      0.90   False          0.50    400    65.921791   \n",
       "\n",
       "    test_score  \n",
       "18   66.666667  \n",
       "1    61.363636  \n",
       "4    61.363636  \n",
       "61   59.848485  \n",
       "70   59.848485  "
      ]
     },
     "execution_count": 457,
     "metadata": {},
     "output_type": "execute_result"
    }
   ],
   "source": [
    "sorted_score_df = score_df.sort_values(by = 'test_score', ascending = False)\n",
    "\n",
    "sorted_score_df.head(5)"
   ]
  },
  {
   "cell_type": "code",
   "execution_count": 458,
   "metadata": {},
   "outputs": [],
   "source": [
    "best_parameters = sorted_score_df.iloc[0,:]"
   ]
  },
  {
   "cell_type": "markdown",
   "metadata": {},
   "source": [
    "#### after conducting experiments with the model and optimizer, you can more accurately adjust the parameters for training"
   ]
  },
  {
   "cell_type": "code",
   "execution_count": 459,
   "metadata": {},
   "outputs": [],
   "source": [
    "epochs_widget = widgets.BoundedIntText(value=300, min=1,max=2000,step=1, style=bounded_text_style)\n",
    "epochs_widget_box = HBox([Label('Epochs value: '), epochs_widget])\n",
    "\n",
    "lr_widget = widgets.BoundedFloatText(value= 0.01 , min = 0.1**5, max=0.99, style=bounded_text_style)\n",
    "lr_widget_box = HBox([Label('Learning rate value: '), lr_widget])\n",
    "\n",
    "weight_decay_widget = widgets.BoundedFloatText(value= 0.1 , min = 0.1**5, max=0.99, style=bounded_text_style)\n",
    "weight_decay_widget_box = HBox([Label('L1 value: '), weight_decay_widget])\n",
    "\n",
    "\n",
    "amsgrad_widget = widgets.Checkbox(value= True,  style=bounded_text_style)\n",
    "amsgrad_widget_box = HBox([Label('Amsgrad value: '), amsgrad_widget])                     "
   ]
  },
  {
   "cell_type": "code",
   "execution_count": 460,
   "metadata": {},
   "outputs": [
    {
     "data": {
      "application/vnd.jupyter.widget-view+json": {
       "model_id": "6d4547254b2d495db6c52cb2d3efa5ad",
       "version_major": 2,
       "version_minor": 0
      },
      "text/plain": [
       "HBox(children=(Label(value='Epochs value: '), BoundedIntText(value=300, max=2000, min=1, style=DescriptionStyl…"
      ]
     },
     "metadata": {},
     "output_type": "display_data"
    },
    {
     "data": {
      "application/vnd.jupyter.widget-view+json": {
       "model_id": "34658d3e359c47be9c6dd8fc792b043b",
       "version_major": 2,
       "version_minor": 0
      },
      "text/plain": [
       "HBox(children=(Label(value='Learning rate value: '), BoundedFloatText(value=0.01, max=0.99, min=1.000000000000…"
      ]
     },
     "metadata": {},
     "output_type": "display_data"
    },
    {
     "data": {
      "application/vnd.jupyter.widget-view+json": {
       "model_id": "94c6aa18ee7b41cd9a1906b178dbaf9f",
       "version_major": 2,
       "version_minor": 0
      },
      "text/plain": [
       "HBox(children=(Label(value='L1 value: '), BoundedFloatText(value=0.1, max=0.99, min=1.0000000000000003e-05, st…"
      ]
     },
     "metadata": {},
     "output_type": "display_data"
    },
    {
     "data": {
      "application/vnd.jupyter.widget-view+json": {
       "model_id": "4e4db14c2d3a4623967b1cbe56d79d51",
       "version_major": 2,
       "version_minor": 0
      },
      "text/plain": [
       "HBox(children=(Label(value='Amsgrad value: '), Checkbox(value=True, style=CheckboxStyle(description_width='20'…"
      ]
     },
     "metadata": {},
     "output_type": "display_data"
    }
   ],
   "source": [
    "display(epochs_widget_box,lr_widget_box,weight_decay_widget_box,amsgrad_widget_box)"
   ]
  },
  {
   "cell_type": "code",
   "execution_count": 573,
   "metadata": {},
   "outputs": [
    {
     "data": {
      "image/png": "[encoded data removed]",
      "text/plain": [
       "<Figure size 640x480 with 1 Axes>"
      ]
     },
     "metadata": {},
     "output_type": "display_data"
    },
    {
     "name": "stdout",
     "output_type": "stream",
     "text": [
      "trainn accuracy: 65.92179107666016, test accuracy: 59.84848484848485\n"
     ]
    }
   ],
   "source": [
    "nn_model = NeuralNetwork()\n",
    "adam_optim = optim.Adam(nn_model.parameters(), lr = lr_widget.value, \n",
    "                        weight_decay = weight_decay_widget.value, amsgrad = amsgrad_widget.value)\n",
    "\n",
    "train_accuracy, test_accuracy = train_model(model = nn_model,\n",
    "                                            train_loader = train_dataloader,\n",
    "                                            test_loader = test_dataloader,\n",
    "                                            val_loader = val_dataloader,\n",
    "                                            epochs = epochs_widget.value,\n",
    "                                            optimizer = adam_optim, \n",
    "                                            print_plot = True)\n",
    "\n",
    "print(f'trainn accuracy: {train_accuracy}, test accuracy: {test_accuracy}')"
   ]
  },
  {
   "cell_type": "markdown",
   "metadata": {},
   "source": [
    "### decision tree"
   ]
  },
  {
   "cell_type": "code",
   "execution_count": 477,
   "metadata": {},
   "outputs": [],
   "source": [
    "def split_dataframe(dataframe, test_size=0.25, random_state=1 ):\n",
    "\n",
    "    '''\n",
    "    =============================\n",
    "    This function divides the dataframe into three parts (train, val, test).\n",
    "    To correctly calculate the validation part, we subtract the desired percentage \n",
    "    from the total percentage (specifics of the sklearn library).\n",
    "    =============================\n",
    "    '''\n",
    "\n",
    "    X = dataframe.iloc[:, :-1]\n",
    "    y = dataframe.iloc[:, -1]\n",
    "    \n",
    "    \n",
    "    X_train, X_test, y_train, y_test = train_test_split(X, y, test_size=test_size, random_state=random_state, shuffle=True)\n",
    "\n",
    "    print(f'train set size: {X_train.shape[0]}')\n",
    "    print(f'test set size: {X_test.shape[0]}')\n",
    "    \n",
    "    return X_train, X_test, y_train, y_test"
   ]
  },
  {
   "cell_type": "code",
   "execution_count": 478,
   "metadata": {},
   "outputs": [],
   "source": [
    "test_size_widget = widgets.IntSlider(value=30, min=10, max=50,step=1, \n",
    "                                     orientation='horizontal',\n",
    "                                     style=handle_style_dict)\n",
    "test_size_widget_box = HBox([Label('Test size(% of all data)'), test_size_widget])"
   ]
  },
  {
   "cell_type": "code",
   "execution_count": 479,
   "metadata": {},
   "outputs": [
    {
     "data": {
      "application/vnd.jupyter.widget-view+json": {
       "model_id": "a1ea4357b3044333966619729124fd26",
       "version_major": 2,
       "version_minor": 0
      },
      "text/plain": [
       "HBox(children=(Label(value='Test size(% of all data)'), IntSlider(value=30, max=50, min=10, style=SliderStyle(…"
      ]
     },
     "metadata": {},
     "output_type": "display_data"
    }
   ],
   "source": [
    "display(test_size_widget_box)"
   ]
  },
  {
   "cell_type": "code",
   "execution_count": 485,
   "metadata": {},
   "outputs": [
    {
     "name": "stdout",
     "output_type": "stream",
     "text": [
      "train set size: 576\n",
      "test set size: 192\n"
     ]
    }
   ],
   "source": [
    "X_train, X_test, y_train, y_test = split_dataframe(dataframe=diabetes_df,test_size=test_size_widget.value/100)"
   ]
  },
  {
   "cell_type": "code",
   "execution_count": 481,
   "metadata": {},
   "outputs": [],
   "source": [
    "max_depth_widget = widgets.IntSlider(value=16, min=1, max=50,step=1, \n",
    "                                     orientation='horizontal',\n",
    "                                     style=handle_style_dict)\n",
    "\n",
    "max_depth_widget_box = HBox([Label('Max depth'), max_depth_widget])\n",
    "\n",
    "max_features_widget = widgets.IntSlider(value=12, min=1, max=50,step=1, \n",
    "                                     orientation='horizontal',\n",
    "                                     style=handle_style_dict)\n",
    "\n",
    "max_features_widget_box = HBox([Label('Feature depth'), max_features_widget])\n",
    "\n",
    "max_leaf_nodes_widget = widgets.IntSlider(value=16, min=2, max=50,step=1, \n",
    "                                     orientation='horizontal',\n",
    "                                     style=handle_style_dict)\n",
    "\n",
    "max_leaf_nodes_widget_box = HBox([Label('Max leaf nodes'), max_leaf_nodes_widget])"
   ]
  },
  {
   "cell_type": "code",
   "execution_count": 482,
   "metadata": {},
   "outputs": [
    {
     "data": {
      "application/vnd.jupyter.widget-view+json": {
       "model_id": "1c18c45ef9ba40eeb45e34210767f418",
       "version_major": 2,
       "version_minor": 0
      },
      "text/plain": [
       "HBox(children=(Label(value='Max depth'), IntSlider(value=16, max=50, min=1, style=SliderStyle(description_widt…"
      ]
     },
     "metadata": {},
     "output_type": "display_data"
    },
    {
     "data": {
      "application/vnd.jupyter.widget-view+json": {
       "model_id": "91165f7ca91d43fd9a5123585bef21ca",
       "version_major": 2,
       "version_minor": 0
      },
      "text/plain": [
       "HBox(children=(Label(value='Feature depth'), IntSlider(value=12, max=50, min=1, style=SliderStyle(description_…"
      ]
     },
     "metadata": {},
     "output_type": "display_data"
    },
    {
     "data": {
      "application/vnd.jupyter.widget-view+json": {
       "model_id": "84247cf1f3994c47bb3d6d926b7540e7",
       "version_major": 2,
       "version_minor": 0
      },
      "text/plain": [
       "HBox(children=(Label(value='Max leaf nodes'), IntSlider(value=16, max=50, min=2, style=SliderStyle(description…"
      ]
     },
     "metadata": {},
     "output_type": "display_data"
    }
   ],
   "source": [
    "display(max_depth_widget_box,\n",
    "        max_features_widget_box,\n",
    "        max_leaf_nodes_widget_box)"
   ]
  },
  {
   "cell_type": "code",
   "execution_count": 568,
   "metadata": {},
   "outputs": [
    {
     "name": "stdout",
     "output_type": "stream",
     "text": [
      "Accuracy: 80.21 %\n"
     ]
    }
   ],
   "source": [
    "tree_classifier_model = tree.DecisionTreeClassifier(max_depth = max_depth_widget.value,\n",
    "                                max_features = max_features_widget.value, \n",
    "                                max_leaf_nodes= max_leaf_nodes_widget.value)\n",
    "tree_classifier_model = tree_classifier_model.fit(X_train, y_train)\n",
    "\n",
    "y_pred = tree_classifier_model.predict(X_test)\n",
    "accuracy = accuracy_score(y_test, y_pred)\n",
    "print(f\"Accuracy: {100 * accuracy:.4} %\")"
   ]
  },
  {
   "cell_type": "markdown",
   "metadata": {},
   "source": [
    "### Research result: the neural network model showed a maximum accuracy of 59.2-65 %. \n",
    "### The decision tree model showed an accuracy of 80.2 %."
   ]
  },
  {
   "cell_type": "markdown",
   "metadata": {},
   "source": [
    "#### save model"
   ]
  },
  {
   "cell_type": "code",
   "execution_count": 576,
   "metadata": {},
   "outputs": [
    {
     "data": {
      "text/plain": [
       "['diabetes-classifier-model.pkl']"
      ]
     },
     "execution_count": 576,
     "metadata": {},
     "output_type": "execute_result"
    }
   ],
   "source": [
    "model_file_name = 'diabetes-classifier-model.pkl'\n",
    "\n",
    "joblib.dump(tree_classifier_model, model_file_name)"
   ]
  }
 ],
 "metadata": {
  "kernelspec": {
   "display_name": "Python 3",
   "language": "python",
   "name": "python3"
  },
  "language_info": {
   "codemirror_mode": {
    "name": "ipython",
    "version": 3
   },
   "file_extension": ".py",
   "mimetype": "text/x-python",
   "name": "python",
   "nbconvert_exporter": "python",
   "pygments_lexer": "ipython3",
   "version": "3.11.7"
  }
 },
 "nbformat": 4,
 "nbformat_minor": 2
}
